{
 "cells": [
  {
   "cell_type": "code",
   "execution_count": 2,
   "id": "f09d91fd",
   "metadata": {},
   "outputs": [],
   "source": [
    "import jax.numpy as jnp\n",
    "import jax"
   ]
  },
  {
   "cell_type": "code",
   "execution_count": null,
   "id": "6926734f",
   "metadata": {},
   "outputs": [],
   "source": [
    "B = 3 # batch size\n",
    "T = 4 # seq length\n",
    "E = 5 # embedding dim\n",
    "D = 6 # hidden dim\n",
    "H = 7 # number of heads\n",
    "\n",
    "def random_array(*shape):\n",
    "    key = jax.random.key(0)\n",
    "    arr = jax.random.uniform(key, shape=shape)\n",
    "    return arr\n",
    "\n",
    "X_BTE = random_array(B, T, E)\n",
    "WQ_HED = random_array(H, E, D)\n",
    "WK_HED = random_array(H, E, D)\n",
    "WH_HEE = random_array(H, E, E)\n",
    "\n",
    "Q_HBTD = jnp.einsum('bti, hid -> hbtd', X_BTE, WQ_HED)\n",
    "K_HBTD = jnp.einsum('bti, hid -> hbtd', X_BTE, WK_HED)\n",
    "A_HBTB = jnp.einsum('hitj, hktj -> hitk', Q_HBTD, K_HBTD)\n",
    "\n",
    "Y_BTE = jnp.einsum('hbti, itj, hjd->btd', A_HBTB, X_BTE, WH_HEE)\n",
    "\n",
    "# next question - is it actually correct lol"
   ]
  },
  {
   "cell_type": "code",
   "execution_count": null,
   "id": "18fe3ab0",
   "metadata": {},
   "outputs": [
    {
     "data": {
      "text/plain": [
       "(3, 4, 5)"
      ]
     },
     "execution_count": 18,
     "metadata": {},
     "output_type": "execute_result"
    }
   ],
   "source": []
  },
  {
   "cell_type": "code",
   "execution_count": null,
   "id": "2fdd138a",
   "metadata": {},
   "outputs": [],
   "source": []
  }
 ],
 "metadata": {
  "kernelspec": {
   "display_name": "genlearn",
   "language": "python",
   "name": "python3"
  },
  "language_info": {
   "codemirror_mode": {
    "name": "ipython",
    "version": 3
   },
   "file_extension": ".py",
   "mimetype": "text/x-python",
   "name": "python",
   "nbconvert_exporter": "python",
   "pygments_lexer": "ipython3",
   "version": "3.13.7"
  }
 },
 "nbformat": 4,
 "nbformat_minor": 5
}
